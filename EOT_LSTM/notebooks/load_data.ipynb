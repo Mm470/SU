{
 "cells": [
  {
   "cell_type": "code",
   "execution_count": 87,
   "metadata": {},
   "outputs": [],
   "source": [
    "import json\n",
    "import nltk\n",
    "import re\n",
    "import pandas as pd\n",
    "from tqdm import tqdm\n",
    "\n",
    "pd.set_option('display.max_colwidth', -1)"
   ]
  },
  {
   "cell_type": "code",
   "execution_count": 88,
   "metadata": {},
   "outputs": [
    {
     "data": {
      "text/html": [
       "<div>\n",
       "<style scoped>\n",
       "    .dataframe tbody tr th:only-of-type {\n",
       "        vertical-align: middle;\n",
       "    }\n",
       "\n",
       "    .dataframe tbody tr th {\n",
       "        vertical-align: top;\n",
       "    }\n",
       "\n",
       "    .dataframe thead th {\n",
       "        text-align: right;\n",
       "    }\n",
       "</style>\n",
       "<table border=\"1\" class=\"dataframe\">\n",
       "  <thead>\n",
       "    <tr style=\"text-align: right;\">\n",
       "      <th></th>\n",
       "      <th>transcription</th>\n",
       "    </tr>\n",
       "  </thead>\n",
       "  <tbody>\n",
       "    <tr>\n",
       "      <td>0</td>\n",
       "      <td>Change language</td>\n",
       "    </tr>\n",
       "    <tr>\n",
       "      <td>1</td>\n",
       "      <td>Resume</td>\n",
       "    </tr>\n",
       "    <tr>\n",
       "      <td>2</td>\n",
       "      <td>Turn the lights on</td>\n",
       "    </tr>\n",
       "    <tr>\n",
       "      <td>3</td>\n",
       "      <td>Switch on the lights</td>\n",
       "    </tr>\n",
       "    <tr>\n",
       "      <td>4</td>\n",
       "      <td>Switch off the lights</td>\n",
       "    </tr>\n",
       "    <tr>\n",
       "      <td>...</td>\n",
       "      <td>...</td>\n",
       "    </tr>\n",
       "    <tr>\n",
       "      <td>23132</td>\n",
       "      <td>Where is my phone</td>\n",
       "    </tr>\n",
       "    <tr>\n",
       "      <td>23133</td>\n",
       "      <td>How is my oven</td>\n",
       "    </tr>\n",
       "    <tr>\n",
       "      <td>23134</td>\n",
       "      <td>When is the event</td>\n",
       "    </tr>\n",
       "    <tr>\n",
       "      <td>23135</td>\n",
       "      <td>Why is the oven on</td>\n",
       "    </tr>\n",
       "    <tr>\n",
       "      <td>23136</td>\n",
       "      <td>Who is in the room</td>\n",
       "    </tr>\n",
       "  </tbody>\n",
       "</table>\n",
       "<p>23137 rows × 1 columns</p>\n",
       "</div>"
      ],
      "text/plain": [
       "               transcription\n",
       "0      Change language      \n",
       "1      Resume               \n",
       "2      Turn the lights on   \n",
       "3      Switch on the lights \n",
       "4      Switch off the lights\n",
       "...                      ...\n",
       "23132  Where is my phone    \n",
       "23133  How is my oven       \n",
       "23134  When is the event    \n",
       "23135  Why is the oven on   \n",
       "23136  Who is in the room   \n",
       "\n",
       "[23137 rows x 1 columns]"
      ]
     },
     "execution_count": 88,
     "metadata": {},
     "output_type": "execute_result"
    }
   ],
   "source": [
    "df = pd.read_csv(\"data/train_data.csv\")\n",
    "df = df.drop(columns = [\"Unnamed: 0\", \"path\", \"speakerId\", \"action\", \"object\", \"location\"])\n",
    "df"
   ]
  },
  {
   "cell_type": "code",
   "execution_count": 89,
   "metadata": {},
   "outputs": [
    {
     "data": {
      "text/html": [
       "<div>\n",
       "<style scoped>\n",
       "    .dataframe tbody tr th:only-of-type {\n",
       "        vertical-align: middle;\n",
       "    }\n",
       "\n",
       "    .dataframe tbody tr th {\n",
       "        vertical-align: top;\n",
       "    }\n",
       "\n",
       "    .dataframe thead th {\n",
       "        text-align: right;\n",
       "    }\n",
       "</style>\n",
       "<table border=\"1\" class=\"dataframe\">\n",
       "  <thead>\n",
       "    <tr style=\"text-align: right;\">\n",
       "      <th></th>\n",
       "      <th>transcription</th>\n",
       "    </tr>\n",
       "  </thead>\n",
       "  <tbody>\n",
       "    <tr>\n",
       "      <td>0</td>\n",
       "      <td>Turn on the lights</td>\n",
       "    </tr>\n",
       "    <tr>\n",
       "      <td>1</td>\n",
       "      <td>Turn off the lights</td>\n",
       "    </tr>\n",
       "    <tr>\n",
       "      <td>2</td>\n",
       "      <td>Change language</td>\n",
       "    </tr>\n",
       "    <tr>\n",
       "      <td>3</td>\n",
       "      <td>Pause the music</td>\n",
       "    </tr>\n",
       "    <tr>\n",
       "      <td>4</td>\n",
       "      <td>Resume</td>\n",
       "    </tr>\n",
       "    <tr>\n",
       "      <td>...</td>\n",
       "      <td>...</td>\n",
       "    </tr>\n",
       "    <tr>\n",
       "      <td>3788</td>\n",
       "      <td>I need to practice my Chinese. Switch the language</td>\n",
       "    </tr>\n",
       "    <tr>\n",
       "      <td>3789</td>\n",
       "      <td>I need to practice my German. Switch the language</td>\n",
       "    </tr>\n",
       "    <tr>\n",
       "      <td>3790</td>\n",
       "      <td>I need to practice my Korean. Switch the language</td>\n",
       "    </tr>\n",
       "    <tr>\n",
       "      <td>3791</td>\n",
       "      <td>I need to practice my English. Switch the language</td>\n",
       "    </tr>\n",
       "    <tr>\n",
       "      <td>3792</td>\n",
       "      <td>Turn the washroom lights off</td>\n",
       "    </tr>\n",
       "  </tbody>\n",
       "</table>\n",
       "<p>3793 rows × 1 columns</p>\n",
       "</div>"
      ],
      "text/plain": [
       "                                           transcription\n",
       "0     Turn on the lights                                \n",
       "1     Turn off the lights                               \n",
       "2     Change language                                   \n",
       "3     Pause the music                                   \n",
       "4     Resume                                            \n",
       "...      ...                                            \n",
       "3788  I need to practice my Chinese. Switch the language\n",
       "3789  I need to practice my German. Switch the language \n",
       "3790  I need to practice my Korean. Switch the language \n",
       "3791  I need to practice my English. Switch the language\n",
       "3792  Turn the washroom lights off                      \n",
       "\n",
       "[3793 rows x 1 columns]"
      ]
     },
     "execution_count": 89,
     "metadata": {},
     "output_type": "execute_result"
    }
   ],
   "source": [
    "df_test = pd.read_csv(\"data/test_data.csv\")\n",
    "df_test = df_test.drop(columns = [\"Unnamed: 0\", \"path\", \"speakerId\", \"action\", \"object\", \"location\"])\n",
    "df_test"
   ]
  },
  {
   "cell_type": "code",
   "execution_count": 90,
   "metadata": {},
   "outputs": [
    {
     "data": {
      "text/html": [
       "<div>\n",
       "<style scoped>\n",
       "    .dataframe tbody tr th:only-of-type {\n",
       "        vertical-align: middle;\n",
       "    }\n",
       "\n",
       "    .dataframe tbody tr th {\n",
       "        vertical-align: top;\n",
       "    }\n",
       "\n",
       "    .dataframe thead th {\n",
       "        text-align: right;\n",
       "    }\n",
       "</style>\n",
       "<table border=\"1\" class=\"dataframe\">\n",
       "  <thead>\n",
       "    <tr style=\"text-align: right;\">\n",
       "      <th></th>\n",
       "      <th>transcription</th>\n",
       "    </tr>\n",
       "  </thead>\n",
       "  <tbody>\n",
       "    <tr>\n",
       "      <td>0</td>\n",
       "      <td>Turn on the lights</td>\n",
       "    </tr>\n",
       "    <tr>\n",
       "      <td>1</td>\n",
       "      <td>Turn off the lights</td>\n",
       "    </tr>\n",
       "    <tr>\n",
       "      <td>2</td>\n",
       "      <td>Change language</td>\n",
       "    </tr>\n",
       "    <tr>\n",
       "      <td>3</td>\n",
       "      <td>Pause the music</td>\n",
       "    </tr>\n",
       "    <tr>\n",
       "      <td>4</td>\n",
       "      <td>Resume</td>\n",
       "    </tr>\n",
       "    <tr>\n",
       "      <td>...</td>\n",
       "      <td>...</td>\n",
       "    </tr>\n",
       "    <tr>\n",
       "      <td>3113</td>\n",
       "      <td>Lights on</td>\n",
       "    </tr>\n",
       "    <tr>\n",
       "      <td>3114</td>\n",
       "      <td>Switch off the lights</td>\n",
       "    </tr>\n",
       "    <tr>\n",
       "      <td>3115</td>\n",
       "      <td>Turn the lights off</td>\n",
       "    </tr>\n",
       "    <tr>\n",
       "      <td>3116</td>\n",
       "      <td>Lights off</td>\n",
       "    </tr>\n",
       "    <tr>\n",
       "      <td>3117</td>\n",
       "      <td>Volume up</td>\n",
       "    </tr>\n",
       "  </tbody>\n",
       "</table>\n",
       "<p>3118 rows × 1 columns</p>\n",
       "</div>"
      ],
      "text/plain": [
       "              transcription\n",
       "0     Turn on the lights   \n",
       "1     Turn off the lights  \n",
       "2     Change language      \n",
       "3     Pause the music      \n",
       "4     Resume               \n",
       "...      ...               \n",
       "3113  Lights on            \n",
       "3114  Switch off the lights\n",
       "3115  Turn the lights off  \n",
       "3116  Lights off           \n",
       "3117  Volume up            \n",
       "\n",
       "[3118 rows x 1 columns]"
      ]
     },
     "execution_count": 90,
     "metadata": {},
     "output_type": "execute_result"
    }
   ],
   "source": [
    "df_valid = pd.read_csv(\"data/valid_data.csv\")\n",
    "df_valid = df_valid.drop(columns = [\"Unnamed: 0\", \"path\", \"speakerId\", \"action\", \"object\", \"location\"])\n",
    "df_valid"
   ]
  },
  {
   "cell_type": "markdown",
   "metadata": {},
   "source": [
    "### Split the words"
   ]
  },
  {
   "cell_type": "code",
   "execution_count": 91,
   "metadata": {},
   "outputs": [],
   "source": [
    "# Split words\n",
    "\"\"\"\n",
    "questions_raw = [obj[str(conv)]['content'][0]['message'].split() for conv in obj]\n",
    "\"\"\"\n",
    "def split_words (df):\n",
    "    questions_raw = []\n",
    "\n",
    "    for conv in df.iterrows():\n",
    "        utterance = conv[1]['transcription']\n",
    "        questions_raw.append(utterance.split(\" \"))\n",
    "    return questions_raw\n"
   ]
  },
  {
   "cell_type": "code",
   "execution_count": 92,
   "metadata": {},
   "outputs": [
    {
     "name": "stdout",
     "output_type": "stream",
     "text": [
      "['Change', 'language']\n",
      "['Turn', 'on', 'the', 'lights']\n",
      "['Turn', 'on', 'the', 'lights']\n"
     ]
    }
   ],
   "source": [
    "questions_raw = split_words(df)\n",
    "test_raw = split_words(df_test)\n",
    "valid_raw = split_words(df_valid)\n",
    "\n",
    "print(questions_raw[0])\n",
    "print(test_raw[0])\n",
    "print(valid_raw[0])"
   ]
  },
  {
   "cell_type": "markdown",
   "metadata": {},
   "source": [
    "### Remove punctuation"
   ]
  },
  {
   "cell_type": "code",
   "execution_count": 93,
   "metadata": {},
   "outputs": [],
   "source": [
    "\n",
    "def remove_punctuation (split_questions):\n",
    "    questions = []\n",
    "    # Remove all punctuation\n",
    "    for question in split_questions:\n",
    "        q = []\n",
    "        for word in question:\n",
    "            s = re.sub(r'[^\\w\\s]','',word)\n",
    "            q.append(s)\n",
    "\n",
    "        questions.append(q)\n",
    "    return questions\n"
   ]
  },
  {
   "cell_type": "code",
   "execution_count": 94,
   "metadata": {},
   "outputs": [
    {
     "name": "stdout",
     "output_type": "stream",
     "text": [
      "['Change', 'language']\n",
      "['Turn', 'on', 'the', 'lights']\n",
      "['Turn', 'on', 'the', 'lights']\n"
     ]
    }
   ],
   "source": [
    "question = remove_punctuation(questions_raw)\n",
    "question_test = remove_punctuation(test_raw)\n",
    "question_valid = remove_punctuation(valid_raw)\n",
    "\n",
    "\n",
    "print(question[0])\n",
    "print(question_test[0])\n",
    "print(question_valid[0])"
   ]
  },
  {
   "cell_type": "markdown",
   "metadata": {},
   "source": [
    "### Create a dictionary of nouns"
   ]
  },
  {
   "cell_type": "code",
   "execution_count": 95,
   "metadata": {},
   "outputs": [],
   "source": [
    "def create_dictionary (questions_list):\n",
    "\n",
    "    nouns = []\n",
    "    is_noun = lambda pos: pos[:2] == 'NN'\n",
    "\n",
    "    # Loop borrowed from https://stackoverflow.com/questions/33587667/extracting-all-nouns-from-a-text-file-using-nltk\n",
    "    for questions in questions_list:\n",
    "        my_nouns = []\n",
    "        \n",
    "        for i, question in enumerate(questions):\n",
    "\n",
    "            for word in question:\n",
    "                token = nltk.pos_tag(nltk.word_tokenize(str(word)))\n",
    "\n",
    "                for word,wordtype in token:\n",
    "                    if (wordtype == 'NNS' or wordtype == 'NN'):\n",
    "                        my_nouns.append(word)\n",
    "        nouns = nouns + my_nouns\n",
    "    \n",
    "    # Remove duplicates\n",
    "    nouns = list(set(nouns))\n",
    "    return nouns"
   ]
  },
  {
   "cell_type": "markdown",
   "metadata": {},
   "source": [
    "#### Remove duplicates"
   ]
  },
  {
   "cell_type": "code",
   "execution_count": 96,
   "metadata": {},
   "outputs": [],
   "source": [
    "nouns = create_dictionary([question, question_test, question_valid])"
   ]
  },
  {
   "cell_type": "code",
   "execution_count": 97,
   "metadata": {},
   "outputs": [
    {
     "name": "stdout",
     "output_type": "stream",
     "text": [
      "['Turn', 'phones', 'phone', 'turn', 'music', 'switch', 'Increase', 'system', 'languages', 'please', 'kitchen', 'Bathroom', 'shoes', 'Pause', 'Far', 'sound', 'event', 'room', 'Decrease', 'Use', 'Too', 'Switch', 'couldnt', 'Thats', 'bedroom', 'lights', 'need', 'heat', 'mute', 'newspaper', 'Louder', 'Language', 'cooler', 'video', 'Change', 'Volume', 'hear', 'Lamp', 'Heat', 'audio', 'hotter', 'OK', 'softer', 'Bedroom', 'temperature', 'Start', 'Washroom', 'loud', 'juice', 'anything', 'socks', 'lamp', 'device', 'Fetch', 'cant', 'language', 'increase', 'practice', 'heating', 'quieter', 'bathroom', 'decrease', 'louder', 'volume', 'Quieter', 'levels', 'settings', 'Lights', 'Set', 'washroom', 'max']\n"
     ]
    }
   ],
   "source": [
    "print(nouns)"
   ]
  },
  {
   "cell_type": "markdown",
   "metadata": {},
   "source": [
    "## Create dataset"
   ]
  },
  {
   "cell_type": "markdown",
   "metadata": {},
   "source": [
    "#### Populate dataset"
   ]
  },
  {
   "cell_type": "code",
   "execution_count": 98,
   "metadata": {},
   "outputs": [],
   "source": [
    "def create_dataset (questions):\n",
    "\n",
    "    my_df = []\n",
    "\n",
    "    for i, question in enumerate(questions):\n",
    "        w = question[-1:][0]\n",
    "\n",
    "        if (i % 2) == 0:\n",
    "            sentence = ' '.join(question[:-1])\n",
    "            target = 'incomplete'\n",
    "\n",
    "            if (question[-1:] == [\"on\"] or question[-1:] == [\"off\"] or question[-1:] == [\"up\"]\n",
    "               or question[-1:] == [\"down\"] or question[-1:] == [\"in\"] or question[-1:] == [\"out\"]):\n",
    "                sentence =  ' '.join(question[:-2])\n",
    "\n",
    "        else:\n",
    "            sentence = ' '.join(question)\n",
    "            target = 'complete'\n",
    "\n",
    "        my_df.append([sentence, target])\n",
    "        \n",
    "    return my_df\n"
   ]
  },
  {
   "cell_type": "code",
   "execution_count": 99,
   "metadata": {},
   "outputs": [],
   "source": [
    "data_train = create_dataset(question)\n",
    "data_test = create_dataset(question_test)\n",
    "data_valid = create_dataset(question_valid)"
   ]
  },
  {
   "cell_type": "code",
   "execution_count": 100,
   "metadata": {},
   "outputs": [
    {
     "data": {
      "text/html": [
       "<div>\n",
       "<style scoped>\n",
       "    .dataframe tbody tr th:only-of-type {\n",
       "        vertical-align: middle;\n",
       "    }\n",
       "\n",
       "    .dataframe tbody tr th {\n",
       "        vertical-align: top;\n",
       "    }\n",
       "\n",
       "    .dataframe thead th {\n",
       "        text-align: right;\n",
       "    }\n",
       "</style>\n",
       "<table border=\"1\" class=\"dataframe\">\n",
       "  <thead>\n",
       "    <tr style=\"text-align: right;\">\n",
       "      <th></th>\n",
       "      <th>sentence</th>\n",
       "      <th>target</th>\n",
       "    </tr>\n",
       "  </thead>\n",
       "  <tbody>\n",
       "    <tr>\n",
       "      <td>0</td>\n",
       "      <td>Turn on the</td>\n",
       "      <td>incomplete</td>\n",
       "    </tr>\n",
       "    <tr>\n",
       "      <td>1</td>\n",
       "      <td>Turn off the lights</td>\n",
       "      <td>complete</td>\n",
       "    </tr>\n",
       "    <tr>\n",
       "      <td>2</td>\n",
       "      <td>Change</td>\n",
       "      <td>incomplete</td>\n",
       "    </tr>\n",
       "    <tr>\n",
       "      <td>3</td>\n",
       "      <td>Pause the music</td>\n",
       "      <td>complete</td>\n",
       "    </tr>\n",
       "    <tr>\n",
       "      <td>4</td>\n",
       "      <td></td>\n",
       "      <td>incomplete</td>\n",
       "    </tr>\n",
       "  </tbody>\n",
       "</table>\n",
       "</div>"
      ],
      "text/plain": [
       "              sentence      target\n",
       "0  Turn on the          incomplete\n",
       "1  Turn off the lights  complete  \n",
       "2  Change               incomplete\n",
       "3  Pause the music      complete  \n",
       "4                       incomplete"
      ]
     },
     "execution_count": 100,
     "metadata": {},
     "output_type": "execute_result"
    }
   ],
   "source": [
    "def create_df (data):\n",
    "    \n",
    "    header =  ['sentence', 'target']\n",
    "    return pd.DataFrame(data=data, columns = header)    \n",
    "    \n",
    "df_train = create_df(data_train)\n",
    "df_test = create_df(data_test)\n",
    "df_valid = create_df(data_valid)\n",
    "\n",
    "df_test.head()"
   ]
  },
  {
   "cell_type": "code",
   "execution_count": 101,
   "metadata": {},
   "outputs": [
    {
     "data": {
      "text/plain": [
       "'\\n# Remove duplicates\\ndf.drop_duplicates(subset =\"sentence\", \\n                     keep = \\'first\\', inplace = True)\\n\\ndf.head(30)\\n'"
      ]
     },
     "execution_count": 101,
     "metadata": {},
     "output_type": "execute_result"
    }
   ],
   "source": [
    "\"\"\"\n",
    "# Remove duplicates\n",
    "df.drop_duplicates(subset =\"sentence\", \n",
    "                     keep = 'first', inplace = True)\n",
    "\n",
    "df.head(30)\n",
    "\"\"\""
   ]
  },
  {
   "cell_type": "code",
   "execution_count": 102,
   "metadata": {},
   "outputs": [],
   "source": [
    "def save_sentence_txt(name, df):\n",
    "    myfile = open('EOT_DATA/{}.txt'.format(name), 'w')\n",
    "\n",
    "    for index, row in df.iterrows():\n",
    "        myfile.write(\"{} \\n\".format(row['sentence']))\n",
    "\n",
    "    myfile.close()\n",
    "    \n",
    "save_sentence_txt(\"eot_sentences\", df_train)\n",
    "save_sentence_txt(\"eot_sentences_test\", df_test)\n",
    "save_sentence_txt(\"eot_sentences_valid\", df_valid)"
   ]
  },
  {
   "cell_type": "code",
   "execution_count": 103,
   "metadata": {},
   "outputs": [],
   "source": [
    "def save_target_txt(name, df):\n",
    "    myfile = open('EOT_DATA/{}.txt'.format(name), 'w')\n",
    "    \n",
    "    for index, row in df.iterrows():\n",
    "        myfile.write(\"%s\\n\" % row['target'])\n",
    "\n",
    "    myfile.close()\n",
    "    \n",
    "save_target_txt(\"eot_target\", df_train)\n",
    "save_target_txt(\"eot_target_test\", df_test)\n",
    "save_target_txt(\"eot_sentences_valid\", df_valid)"
   ]
  },
  {
   "cell_type": "code",
   "execution_count": null,
   "metadata": {},
   "outputs": [],
   "source": []
  },
  {
   "cell_type": "code",
   "execution_count": null,
   "metadata": {},
   "outputs": [],
   "source": []
  }
 ],
 "metadata": {
  "kernelspec": {
   "display_name": "alexa-prize-topical-chat-dataset",
   "language": "python",
   "name": "alexa-prize-topical-chat-dataset"
  },
  "language_info": {
   "codemirror_mode": {
    "name": "ipython",
    "version": 3
   },
   "file_extension": ".py",
   "mimetype": "text/x-python",
   "name": "python",
   "nbconvert_exporter": "python",
   "pygments_lexer": "ipython3",
   "version": "3.7.4"
  }
 },
 "nbformat": 4,
 "nbformat_minor": 2
}
